{
 "cells": [
  {
   "cell_type": "code",
   "execution_count": 5,
   "metadata": {},
   "outputs": [],
   "source": [
    "import re\n",
    "import urllib\n",
    "import os\n",
    "from flask import Flask\n",
    "from flask import render_template, request, redirect, url_for\n",
    "import sqlite3\n",
    "import random"
   ]
  },
  {
   "cell_type": "code",
   "execution_count": 2,
   "metadata": {},
   "outputs": [
    {
     "data": {
      "text/plain": [
       "['Тема:\\xa0употребление союза\\xa0но',\n",
       " 'Объяснение:\\xa0A, но B\\xa0употребляется, когда\\xa0В\\xa0является неожиданным следствием\\xa0А. Если\\xa0В\\xa0является ожидаемым следствием\\xa0А, то употребляется союз\\xa0и.',\n",
       " 'Примеры:',\n",
       " '✔️\\xa0Ваня промочил ноги, но не заболел. Ваня не промочил ноги, но заболел.',\n",
       " '❌\\xa0Ваня промочил ноги, но заболел. Ваня не промочил ноги, но не заболел.',\n",
       " '✔️\\xa0Ваня промочил ноги и заболел. Ваня не промочил ноги и не заболел.',\n",
       " '',\n",
       " '']"
      ]
     },
     "execution_count": 2,
     "metadata": {},
     "output_type": "execute_result"
    }
   ],
   "source": [
    "with open(\"data_slovo.txt\", \"r\", encoding='utf-8') as f:\n",
    "        content = f.read().split('\\n')\n",
    "\n",
    "content"
   ]
  },
  {
   "cell_type": "code",
   "execution_count": 9,
   "metadata": {},
   "outputs": [],
   "source": [
    "connection = sqlite3.connect(\"database.db\")\n",
    "\n",
    "cursor = connection.cursor()\n",
    "\n",
    "cursor.execute(\"SELECT * FROM russian\") \n",
    "result = cursor.fetchall() \n",
    "\n",
    "rand_fact_numb = random.randint(1,len(result))\n",
    "\n",
    "rand_fact = result[rand_fact_numb]\n",
    "\n",
    "connection.close()"
   ]
  },
  {
   "cell_type": "code",
   "execution_count": null,
   "metadata": {},
   "outputs": [
    {
     "name": "stdout",
     "output_type": "stream",
     "text": [
      " * Serving Flask app \"__main__\" (lazy loading)\n",
      " * Environment: production\n",
      "   WARNING: This is a development server. Do not use it in a production deployment.\n",
      "   Use a production WSGI server instead.\n",
      " * Debug mode: off\n"
     ]
    },
    {
     "name": "stderr",
     "output_type": "stream",
     "text": [
      " * Running on http://127.0.0.1:5000/ (Press CTRL+C to quit)\n",
      "127.0.0.1 - - [04/Jun/2019 23:58:23] \"\u001b[37mGET / HTTP/1.1\u001b[0m\" 200 -\n",
      "127.0.0.1 - - [04/Jun/2019 23:58:25] \"\u001b[37mGET /fact HTTP/1.1\u001b[0m\" 200 -\n",
      "127.0.0.1 - - [04/Jun/2019 23:58:29] \"\u001b[37mGET /fact HTTP/1.1\u001b[0m\" 200 -\n",
      "127.0.0.1 - - [04/Jun/2019 23:58:32] \"\u001b[37mGET /fact HTTP/1.1\u001b[0m\" 200 -\n",
      "127.0.0.1 - - [04/Jun/2019 23:58:35] \"\u001b[37mGET /fact HTTP/1.1\u001b[0m\" 200 -\n"
     ]
    }
   ],
   "source": [
    "app = Flask(__name__)\n",
    "\n",
    "@app.route('/')\n",
    "def index():\n",
    "    return render_template('index.html')\n",
    "\n",
    "@app.route('/fact')\n",
    "def fact():\n",
    "    connection = sqlite3.connect(\"database.db\")\n",
    "\n",
    "    cursor = connection.cursor()\n",
    "\n",
    "    cursor.execute(\"SELECT * FROM russian\") \n",
    "    result = cursor.fetchall() \n",
    "\n",
    "    rand_fact_numb = random.randint(1,len(result))\n",
    "\n",
    "    rand_fact = result[rand_fact_numb]\n",
    "\n",
    "    connection.close()\n",
    "    fact_name = rand_fact[0]\n",
    "    fact_description = rand_fact[1]\n",
    "    fact_example = rand_fact[2]\n",
    "    fact_example = re.sub('✔️', '$✔️', fact_example)\n",
    "    fact_example = re.sub('❌', '$❌', fact_example)\n",
    "    fact_example = fact_example.split('$')\n",
    "    return render_template('fact.html', fact_name=fact_name, fact_description=fact_description, fact_example=fact_example)\n",
    "\n",
    "if __name__ == '__main__':\n",
    "    app.run()\n",
    "\n"
   ]
  },
  {
   "cell_type": "code",
   "execution_count": null,
   "metadata": {},
   "outputs": [],
   "source": []
  }
 ],
 "metadata": {
  "kernelspec": {
   "display_name": "Python 3",
   "language": "python",
   "name": "python3"
  },
  "language_info": {
   "codemirror_mode": {
    "name": "ipython",
    "version": 3
   },
   "file_extension": ".py",
   "mimetype": "text/x-python",
   "name": "python",
   "nbconvert_exporter": "python",
   "pygments_lexer": "ipython3",
   "version": "3.7.0"
  }
 },
 "nbformat": 4,
 "nbformat_minor": 2
}
